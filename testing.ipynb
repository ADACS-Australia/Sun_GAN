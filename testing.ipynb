{
 "cells": [
  {
   "cell_type": "code",
   "execution_count": 17,
   "source": [
    "import numpy as np\n",
    "from Data_processing.normalise_EUV_data import *\n",
    "import os"
   ],
   "outputs": [],
   "metadata": {}
  },
  {
   "cell_type": "code",
   "execution_count": 11,
   "source": [
    "percentiles = np.load(f\"Data/np_objects/phase_map_percentiles.npy\").T\n",
    "dates = np.load(f\"Data/np_objects/phase_map_dates.npy\", allow_pickle=True)"
   ],
   "outputs": [],
   "metadata": {}
  },
  {
   "cell_type": "code",
   "execution_count": 8,
   "source": [
    "print(percentiles.shape)\n"
   ],
   "outputs": [
    {
     "output_type": "stream",
     "name": "stdout",
     "text": [
      "(15, 19)\n"
     ]
    }
   ],
   "metadata": {}
  },
  {
   "cell_type": "code",
   "execution_count": 13,
   "source": [
    "print(dates.shape)"
   ],
   "outputs": [
    {
     "output_type": "stream",
     "name": "stdout",
     "text": [
      "(19,)\n"
     ]
    }
   ],
   "metadata": {}
  },
  {
   "cell_type": "code",
   "execution_count": 16,
   "source": [
    "percentiles = np.load(f\"Data/np_objects/AIA_percentiles.npy\").T\n",
    "datetime_dates = np.load(f\"Data/np_objects/AIA_dates.npy\",\n",
    "                            allow_pickle=True)"
   ],
   "outputs": [],
   "metadata": {}
  },
  {
   "cell_type": "code",
   "execution_count": 19,
   "source": [
    "len(os.listdir(\"Data/np_AIA/\"))"
   ],
   "outputs": [
    {
     "output_type": "execute_result",
     "data": {
      "text/plain": [
       "18"
      ]
     },
     "metadata": {},
     "execution_count": 19
    }
   ],
   "metadata": {}
  },
  {
   "cell_type": "code",
   "execution_count": 20,
   "source": [
    "percentiles.shape"
   ],
   "outputs": [
    {
     "output_type": "execute_result",
     "data": {
      "text/plain": [
       "(15, 18)"
      ]
     },
     "metadata": {},
     "execution_count": 20
    }
   ],
   "metadata": {}
  },
  {
   "cell_type": "code",
   "execution_count": 21,
   "source": [
    "datetime_dates.shape"
   ],
   "outputs": [
    {
     "output_type": "execute_result",
     "data": {
      "text/plain": [
       "(18,)"
      ]
     },
     "metadata": {},
     "execution_count": 21
    }
   ],
   "metadata": {}
  },
  {
   "cell_type": "raw",
   "source": [
    "\n",
    "if __name__ == '__main__':\n",
    "    # AIA data:\n",
    "    AIA_p, AIA_dates, AIA_outlier_i = remove_outliers(\"AIA\")\n",
    "    EUVI_p, EUVI_dates, EUVI_outlier_i = remove_outliers(\"EUVI\")\n",
    "\n",
    "    # get percentage of data below zero for each data\n",
    "    min_p_file = \"Data/np_objects/AIA_minp\"\n",
    "    if not os.path.isfile(min_p_file):\n",
    "        get_AIA_min_p(AIA_outlier_i, min_p_file, n)\n",
    "    # get percentile of EUVI data that matches the AIA zeros\n",
    "    EUVI_zeros_file = \"Data/np_objects/EUVI_zeros\"\n",
    "    if not os.path.isfile(EUVI_zeros_file):\n",
    "        get_EUVI_zeros(min_p_file, EUVI_zeros_file, EUVI_outlier_i)\n",
    "\n",
    "    zero_point = np.load(f\"{EUVI_zeros_file}.npy\")\n",
    "    zero_point = np.average(zero_point)\n",
    "    zero_point = int(np.round(zero_point))\n",
    "    # get rolling average of 75th percentile, clip max\n",
    "    EUVI_rolling_75p, clip_max = normalise_EUVI_p(zero_point, EUVI_p,\n",
    "                                                  EUVI_dates)\n",
    "    AIA_rolling_75p = moving_average(AIA_p[8], n)\n",
    "\n",
    "    mask = get_mask(size)\n",
    "    # normalise AIA data\n",
    "    normalise_data(\"AIA\", AIA_rolling_75p, clip_max, AIA_outlier_i, 0)\n",
    "\n",
    "    # normalise EUVI data\n",
    "    normalise_data(\"EUVI\", EUVI_rolling_75p, clip_max,\n",
    "                   EUVI_outlier_i, zero_point)\n"
   ],
   "metadata": {}
  }
 ],
 "metadata": {
  "orig_nbformat": 4,
  "language_info": {
   "name": "python",
   "version": "3.8.10",
   "mimetype": "text/x-python",
   "codemirror_mode": {
    "name": "ipython",
    "version": 3
   },
   "pygments_lexer": "ipython3",
   "nbconvert_exporter": "python",
   "file_extension": ".py"
  },
  "kernelspec": {
   "name": "python3",
   "display_name": "Python 3.8.10 64-bit ('base': conda)"
  },
  "interpreter": {
   "hash": "7d8dd079a21948be91ec67fad7410547cf257522a733ccf2b3b5b6edde278a8b"
  }
 },
 "nbformat": 4,
 "nbformat_minor": 2
}